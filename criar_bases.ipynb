{
 "cells": [
  {
   "cell_type": "code",
   "execution_count": 2,
   "metadata": {},
   "outputs": [],
   "source": [
    "import pandas as pd\n",
    "import os\n",
    "import numpy as np"
   ]
  },
  {
   "cell_type": "code",
   "execution_count": 7,
   "metadata": {},
   "outputs": [],
   "source": [
    "station = 23025122\n",
    "features = ['tempsolocm40cm']"
   ]
  },
  {
   "cell_type": "code",
   "execution_count": 4,
   "metadata": {},
   "outputs": [],
   "source": [
    "# 2020-08-16\n",
    "def date_to_season(date):\n",
    "\t'''\n",
    "\tComeça na primavera, termina no verão\n",
    " \t'''\n",
    "\tano, mes, dia = date.split('-')\n",
    "\tmes, dia = int(mes), int(dia)\n",
    "\tif (mes > 3 and mes < 6) or (mes == 3 and dia >= 21) or (mes == 6 and dia < 21):\n",
    "\t\t# outono\n",
    "\t\treturn 1\n",
    "\tif (mes > 6 and mes < 9) or (mes == 6 and dia >= 21) or (mes == 9 and dia < 23):\n",
    "\t\t# inverno\n",
    "\t\treturn 2\n",
    "\tif (mes > 9 and mes < 12) or (mes == 9 and dia >= 23) or (mes == 12 and dia < 21):\n",
    "\t\t# primavera\n",
    "\t\treturn 3\n",
    "\telse:\n",
    "\t\t# verao\n",
    "\t\treturn 0"
   ]
  },
  {
   "cell_type": "code",
   "execution_count": 8,
   "metadata": {},
   "outputs": [],
   "source": [
    "data = pd.read_csv('../Dados/por estacao/{}/export_automaticas_{}_{}.csv'.format(station, station, features[0]))\n",
    "for feature in features[1:]:\n",
    "\tdata[feature] = pd.read_csv('../Dados/por estacao/{}/export_automaticas_{}_{}.csv'.format(station, station, feature))[feature]\n",
    "for estacao_ano in range(4):\n",
    "\tdata_estacao = data.loc[lambda data:data['date'].apply(lambda dia: date_to_season(dia) == estacao_ano)]\n",
    "\tdate_dict = {}\n",
    "\tfor i, date in enumerate(data_estacao.groupby(['date'])):\n",
    "\t\tdate_dict[date[0]] = i\n",
    "\tday_station_id = [date_dict[date] for date in data_estacao['date'].to_list()]\n",
    "\tglobal_time = [int(int(h.split(':')[1])/15) + int(h.split(':')[0]) * 4 for h in data_estacao['hour'].to_list()]\n",
    "\n",
    "\tfeature_data = {}\n",
    "\tfor feature in features:\n",
    "\t\tdata_list = data_estacao[feature].to_list()\n",
    "\t\tfeature_data[feature] = [d if d and not np.isnan(d) else data_list[i-1] for i, d in enumerate(data_list)]\n",
    "\n",
    "\tmonth = [dia.split('-')[1] for dia in data_estacao['date'].to_list()]\n",
    "\thour = [int(h.split(':')[0]) for h in data_estacao['hour'].to_list()]\n",
    "\tyear = [int(d.split('-')[0]) for d in data_estacao['date'].to_list()]\n",
    "\t\n",
    "\tnew_data = pd.DataFrame({\n",
    "\t\t'Day_Station_ID': day_station_id,\n",
    "\t\t'Global_Time': global_time,\n",
    "\t\t'month': month,\n",
    "\t\t'hour': hour,\n",
    "\t\t'year': year,\n",
    "\t\t'season': estacao_ano\n",
    "\t})\n",
    "\tfor feature in features:\n",
    "\t\tnew_data[feature] = feature_data[feature]\n",
    "\t\t\t\n",
    "\tarq_name = '.'.join(features)\n",
    "\ttry:\n",
    "\t\tparent_dir = \"./data/seasons/\"\t\t\t \n",
    "\t\tos.makedirs(os.path.join(parent_dir, arq_name))\n",
    "\texcept:\n",
    "\t\tpass\n",
    "\n",
    "\tnew_data.to_csv('./data/seasons/{}/{}.{}.dia_id.season_{}.csv'.format(arq_name, arq_name, station, estacao_ano), index=False)"
   ]
  }
 ],
 "metadata": {
  "kernelspec": {
   "display_name": "Python 3.10.4 64-bit",
   "language": "python",
   "name": "python3"
  },
  "language_info": {
   "codemirror_mode": {
    "name": "ipython",
    "version": 3
   },
   "file_extension": ".py",
   "mimetype": "text/x-python",
   "name": "python",
   "nbconvert_exporter": "python",
   "pygments_lexer": "ipython3",
   "version": "3.10.4"
  },
  "orig_nbformat": 4,
  "vscode": {
   "interpreter": {
    "hash": "5fe3e6f0cdaab8afdc61c52912fda83f7c0a71baaea1897dd7498e2df01e69ec"
   }
  }
 },
 "nbformat": 4,
 "nbformat_minor": 2
}
