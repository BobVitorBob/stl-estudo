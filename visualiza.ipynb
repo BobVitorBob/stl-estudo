{
 "cells": [
  {
   "cell_type": "code",
   "execution_count": 2,
   "metadata": {},
   "outputs": [],
   "source": [
    "import pandas as pd\n",
    "import numpy as np\n",
    "import math"
   ]
  },
  {
   "cell_type": "code",
   "execution_count": 4,
   "metadata": {},
   "outputs": [],
   "source": [
    "station_id = '23025122'"
   ]
  },
  {
   "cell_type": "code",
   "execution_count": 8,
   "metadata": {},
   "outputs": [],
   "source": [
    "def hora_to_sec(hora):\n",
    "\thora, minu, seg = hora.split(':')\n",
    "\treturn (int(hora) * 60 * 60) + (int(minu) * 60)\n",
    "\n",
    "data = pd.read_csv('./data/export_automaticas_23025122_data.csv', sep=';')['data'].to_list()\n",
    "hora = pd.read_csv('./data/export_automaticas_23025122_hora.csv', sep=';')['hora'].to_list()\n",
    "dado = pd.read_csv('./data/export_automaticas_23025122_tempsolocm40cm.csv')['tempsolocm40cm'].to_list()\n",
    "dias = [s for i, s in enumerate(list(dict.fromkeys(data)))]\n",
    "data_id = [dias.index(d) for d in data]\n",
    "meses = [d.split('-')[1] for d in data]\n",
    "hora_seg = [hora_to_sec(h) for h in hora]\n",
    "hora_dia = [h.split(':')[0] for h in hora]\n",
    "pd.DataFrame({\n",
    "\t'Day_Station_ID': ['{}'.format(dia) for dia in data_id],\n",
    "\t'Global_Time': hora_seg,\n",
    "\t'tempsolocm40cm': dado,\n",
    "\t'month': meses,\n",
    "\t'hour': hora_dia,\n",
    "}).to_csv('./data/tempsolocm40cm.{}.dia_id.csv'.format(station_id), index=0)"
   ]
  },
  {
   "cell_type": "code",
   "execution_count": 58,
   "metadata": {},
   "outputs": [],
   "source": [
    "def hora_to_sec(hora):\n",
    "\thora, minu, seg = hora.split(':')\n",
    "\treturn (int(hora) * 60 * 60) + (int(minu) * 60)\n",
    "\n",
    "def data_to_mes(data):\n",
    "\tano, mes, _ = data.split('-')\n",
    "\treturn '{}-{}'.format(ano, mes)\n",
    "\n",
    "data = pd.read_csv('./data/export_automaticas_23025122_data.csv', sep=';')['data'].to_list()\n",
    "hora = pd.read_csv('./data/export_automaticas_23025122_hora.csv', sep=';')['hora'].to_list()\n",
    "dado = pd.read_csv('./data/export_automaticas_23025122_tempsolocm40cm.csv')['tempsolocm40cm'].to_list()\n",
    "meses = [s for s in list(dict.fromkeys([data_to_mes(d) for d in data]))]\n",
    "data_id = [meses.index(data_to_mes(d)) for d in data]\n",
    "hora_seg = [hora_to_sec(h) for h in hora]\n",
    "\n",
    "pd.DataFrame({\n",
    "\t'Day_Station_ID': ['{}'.format(dia) for dia in data_id],\n",
    "\t'Global_Time': hora_seg,\n",
    "\t'tempsolocm40cm': dado,\n",
    "}).to_csv('./data/tempsolocm40cm.{}.mes_id.csv'.format(station_id), index=0)"
   ]
  },
  {
   "cell_type": "code",
   "execution_count": null,
   "metadata": {},
   "outputs": [],
   "source": [
    "AND[AND[AND[NOT[tempsolocm40cm < 0.6380851821644629],tempsolocm40cm > 0.42180878612627803],AND[tempsolocm40cm > 0.7133676915902404,tempsolocm40cm > 0.22459223907374815]],AND[AND[AND[tempsolocm40cm > 0.3109144064738224,tempsolocm40cm > 0.002128206305103464],AND[tempsolocm40cm > 0.4644768077046675,tempsolocm40cm > 0.7617905900289216]],AND[tempsolocm40cm > 0.8041369101842661,AND[tempsolocm40cm > 0.4772981552165063,tempsolocm40cm > 0.9820980291183405]]]]"
   ]
  },
  {
   "cell_type": "code",
   "execution_count": null,
   "metadata": {},
   "outputs": [],
   "source": [
    "AND[AND[AND[tempsolocm40cm < 0.093,tempsolocm40cm > 0.013000000000000001],AND[tempsolocm40cm < 0.8,tempsolocm40cm < 0.013000000000000001]],AND[AND[tempsolocm40cm < 0.183,tempsolocm40cm < 0.13],tempsolocm40cm < 0.013000000000000001]]"
   ]
  },
  {
   "cell_type": "code",
   "execution_count": 8,
   "metadata": {},
   "outputs": [
    {
     "data": {
      "text/html": [
       "<div>\n",
       "<style scoped>\n",
       "    .dataframe tbody tr th:only-of-type {\n",
       "        vertical-align: middle;\n",
       "    }\n",
       "\n",
       "    .dataframe tbody tr th {\n",
       "        vertical-align: top;\n",
       "    }\n",
       "\n",
       "    .dataframe thead th {\n",
       "        text-align: right;\n",
       "    }\n",
       "</style>\n",
       "<table border=\"1\" class=\"dataframe\">\n",
       "  <thead>\n",
       "    <tr style=\"text-align: right;\">\n",
       "      <th></th>\n",
       "      <th>Day_Station_ID</th>\n",
       "      <th>Global_Time</th>\n",
       "      <th>tempsolocm40cm</th>\n",
       "      <th>month</th>\n",
       "      <th>hour</th>\n",
       "    </tr>\n",
       "  </thead>\n",
       "  <tbody>\n",
       "    <tr>\n",
       "      <th>0</th>\n",
       "      <td>0</td>\n",
       "      <td>0</td>\n",
       "      <td>24.56</td>\n",
       "      <td>12</td>\n",
       "      <td>0</td>\n",
       "    </tr>\n",
       "    <tr>\n",
       "      <th>1</th>\n",
       "      <td>0</td>\n",
       "      <td>900</td>\n",
       "      <td>24.57</td>\n",
       "      <td>12</td>\n",
       "      <td>0</td>\n",
       "    </tr>\n",
       "    <tr>\n",
       "      <th>2</th>\n",
       "      <td>0</td>\n",
       "      <td>1800</td>\n",
       "      <td>24.58</td>\n",
       "      <td>12</td>\n",
       "      <td>0</td>\n",
       "    </tr>\n",
       "    <tr>\n",
       "      <th>3</th>\n",
       "      <td>0</td>\n",
       "      <td>2700</td>\n",
       "      <td>24.59</td>\n",
       "      <td>12</td>\n",
       "      <td>0</td>\n",
       "    </tr>\n",
       "    <tr>\n",
       "      <th>4</th>\n",
       "      <td>0</td>\n",
       "      <td>3600</td>\n",
       "      <td>24.60</td>\n",
       "      <td>12</td>\n",
       "      <td>1</td>\n",
       "    </tr>\n",
       "  </tbody>\n",
       "</table>\n",
       "</div>"
      ],
      "text/plain": [
       "   Day_Station_ID  Global_Time  tempsolocm40cm  month  hour\n",
       "0               0            0           24.56     12     0\n",
       "1               0          900           24.57     12     0\n",
       "2               0         1800           24.58     12     0\n",
       "3               0         2700           24.59     12     0\n",
       "4               0         3600           24.60     12     1"
      ]
     },
     "execution_count": 8,
     "metadata": {},
     "output_type": "execute_result"
    }
   ],
   "source": [
    "pd.read_csv('./data/tempsolocm40cm.23025122.dia_id.csv').head()"
   ]
  }
 ],
 "metadata": {
  "kernelspec": {
   "display_name": "Python 3.10.4 64-bit",
   "language": "python",
   "name": "python3"
  },
  "language_info": {
   "codemirror_mode": {
    "name": "ipython",
    "version": 3
   },
   "file_extension": ".py",
   "mimetype": "text/x-python",
   "name": "python",
   "nbconvert_exporter": "python",
   "pygments_lexer": "ipython3",
   "version": "3.10.4"
  },
  "orig_nbformat": 4,
  "vscode": {
   "interpreter": {
    "hash": "5fe3e6f0cdaab8afdc61c52912fda83f7c0a71baaea1897dd7498e2df01e69ec"
   }
  }
 },
 "nbformat": 4,
 "nbformat_minor": 2
}
